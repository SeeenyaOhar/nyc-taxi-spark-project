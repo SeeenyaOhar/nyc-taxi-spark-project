{
 "cells": [
  {
   "cell_type": "code",
   "execution_count": 89,
   "metadata": {},
   "outputs": [],
   "source": [
    "from pyspark.sql import SparkSession\n",
    "from pyspark.sql import functions as F\n",
    "import seaborn as sns\n",
    "import matplotlib.pyplot as plt\n",
    "\n",
    "spark = SparkSession.builder \\\n",
    "    .config(\"spark.driver.memory\", \"10g\") \\\n",
    "    .config(\"spark.executor.memory\", \"10g\") \\\n",
    "    .appName(\"SimpleApp\") \\\n",
    "    .getOrCreate()\n",
    "\n"
   ]
  },
  {
   "cell_type": "markdown",
   "metadata": {},
   "source": [
    "### Reading data"
   ]
  },
  {
   "cell_type": "code",
   "execution_count": 90,
   "metadata": {},
   "outputs": [],
   "source": [
    "df_fare = spark.read.option(\"inferSchema\", True).option(\"header\", True).parquet(\"trip_fare.parquet\")\n",
    "df_trip = spark.read.option(\"inferSchema\", True).option(\"header\", True).parquet(\"trip_data.parquet\")"
   ]
  },
  {
   "cell_type": "code",
   "execution_count": 91,
   "metadata": {},
   "outputs": [
    {
     "name": "stdout",
     "output_type": "stream",
     "text": [
      "+--------------------+--------------------+---------+-------------------+------------+-----------+---------+-------+----------+------------+------------+\n",
      "|           medallion|        hack_license|vendor_id|    pickup_datetime|payment_type|fare_amount|surcharge|mta_tax|tip_amount|tolls_amount|total_amount|\n",
      "+--------------------+--------------------+---------+-------------------+------------+-----------+---------+-------+----------+------------+------------+\n",
      "|817884A641AB74A9F...|50B3AD56A59AAC39B...|      VTS|2013-04-12 12:12:00|         CSH|       39.0|      0.0|    0.5|       0.0|        5.33|       44.83|\n",
      "|C4242CE6CCA4D6317...|1429D27200E0A56E7...|      VTS|2013-04-12 12:44:00|         CRD|        8.5|      0.0|    0.5|       1.7|         0.0|        10.7|\n",
      "|090DFC82C624A617E...|1F50E9F425B005214...|      VTS|2013-04-12 12:41:00|         CSH|       10.0|      0.0|    0.5|       0.0|         0.0|        10.5|\n",
      "+--------------------+--------------------+---------+-------------------+------------+-----------+---------+-------+----------+------------+------------+\n",
      "only showing top 3 rows\n",
      "\n"
     ]
    }
   ],
   "source": [
    "df_fare.show(3)"
   ]
  },
  {
   "cell_type": "code",
   "execution_count": 92,
   "metadata": {},
   "outputs": [
    {
     "name": "stdout",
     "output_type": "stream",
     "text": [
      "+--------------------+--------------------+---------+---------+------------------+-------------------+-------------------+---------------+-----------------+-------------+----------------+---------------+-----------------+----------------+\n",
      "|           medallion|        hack_license|vendor_id|rate_code|store_and_fwd_flag|    pickup_datetime|   dropoff_datetime|passenger_count|trip_time_in_secs|trip_distance|pickup_longitude|pickup_latitude|dropoff_longitude|dropoff_latitude|\n",
      "+--------------------+--------------------+---------+---------+------------------+-------------------+-------------------+---------------+-----------------+-------------+----------------+---------------+-----------------+----------------+\n",
      "|FE6449BC4837A48D5...|B261D0C6EB6679A9A...|      VTS|        1|              NULL|2013-04-21 01:10:00|2013-04-21 01:22:00|              6|              720|         2.78|      -73.996666|       40.71912|       -73.989433|       40.747963|\n",
      "|6BD9973E3482EDC68...|1A1B92650B64B87A4...|      VTS|        1|              NULL|2013-04-21 01:20:00|2013-04-21 01:22:00|              1|              120|         0.39|      -73.964485|      40.756176|       -73.960854|       40.760586|\n",
      "|0832BDD7A3BE2ECA1...|008BB66DD209F8976...|      VTS|        1|              NULL|2013-04-21 01:15:00|2013-04-21 01:18:00|              1|              180|         0.66|      -73.958244|      40.710503|       -73.949379|       40.713882|\n",
      "+--------------------+--------------------+---------+---------+------------------+-------------------+-------------------+---------------+-----------------+-------------+----------------+---------------+-----------------+----------------+\n",
      "only showing top 3 rows\n",
      "\n"
     ]
    }
   ],
   "source": [
    "df_trip.show(3)"
   ]
  },
  {
   "cell_type": "markdown",
   "metadata": {},
   "source": [
    "### General Statistical Analysis\n",
    "Finding <i>mean, standard deviation, median, min and max</i> for each of the numeric attributes in both fare and trip datasets."
   ]
  },
  {
   "cell_type": "code",
   "execution_count": 93,
   "metadata": {},
   "outputs": [
    {
     "name": "stderr",
     "output_type": "stream",
     "text": [
      "[Stage 318:=========>                                               (1 + 5) / 6]\r"
     ]
    },
    {
     "name": "stdout",
     "output_type": "stream",
     "text": [
      "+------------+-------------------+-------------------+-------+------+---------+\n",
      "|     feature|               mean|             stddev|    min|median|      max|\n",
      "+------------+-------------------+-------------------+-------+------+---------+\n",
      "| fare_amount| 12.350179522885133|  17.61781731486564|-1430.0|   9.5|158995.81|\n",
      "|   surcharge| 0.3193474087811844|0.40936218031011173|  -19.5|   0.0|    854.5|\n",
      "|     mta_tax|0.49820701788827404|0.03477811933973379|   -0.5|   0.5|    80.05|\n",
      "|  tip_amount| 1.3651019019487773|  2.193723800085308| -96.82|   1.0|   888.19|\n",
      "|tolls_amount|0.25002900899158964| 1.2135948056088939| -22.25|   0.0|   960.09|\n",
      "|total_amount| 14.790096586143193|  69.02724740874783|-1430.0|  11.0| 685908.1|\n",
      "+------------+-------------------+-------------------+-------+------+---------+\n",
      "\n"
     ]
    },
    {
     "name": "stderr",
     "output_type": "stream",
     "text": [
      "                                                                                \r"
     ]
    }
   ],
   "source": [
    "def get_stats(df, col_name):\n",
    "    return df.select(\n",
    "        F.lit(col_name).alias(\"feature\"),\n",
    "        F.mean(col_name).alias(\"mean\"),\n",
    "        F.stddev(col_name).alias(\"stddev\"),\n",
    "        F.min(col_name).alias(\"min\"),\n",
    "        F.expr(f'percentile_approx({col_name}, 0.5)').alias(\"median\"),\n",
    "        F.max(col_name).alias(\"max\")\n",
    "    )\n",
    "\n",
    "columns = [\"fare_amount\", \"surcharge\", \"mta_tax\", \"tip_amount\", \"tolls_amount\", \"total_amount\"]\n",
    "\n",
    "df_stats_list = [get_stats(df_fare, col) for col in columns]\n",
    "\n",
    "df_stats = df_stats_list[0]\n",
    "for df in df_stats_list[1:]:\n",
    "    df_stats = df_stats.unionByName(df)\n",
    "\n",
    "df_stats.show()"
   ]
  },
  {
   "cell_type": "code",
   "execution_count": 94,
   "metadata": {},
   "outputs": [
    {
     "name": "stderr",
     "output_type": "stream",
     "text": [
      "[Stage 337:============================================>            (7 + 2) / 9]\r"
     ]
    },
    {
     "name": "stdout",
     "output_type": "stream",
     "text": [
      "+-----------------+-------------------+-------------------+-------+------+---------+\n",
      "|          feature|               mean|             stddev|    min|median|      max|\n",
      "+-----------------+-------------------+-------------------+-------+------+---------+\n",
      "|      fare_amount| 12.350179522885133|  17.61781731486564|-1430.0|   9.5|158995.81|\n",
      "|        surcharge| 0.3193474087811844|0.40936218031011173|  -19.5|   0.0|    854.5|\n",
      "|          mta_tax|0.49820701788827404|0.03477811933973379|   -0.5|   0.5|    80.05|\n",
      "|       tip_amount| 1.3651019019487773|  2.193723800085308| -96.82|   1.0|   888.19|\n",
      "|     tolls_amount|0.25002900899158964| 1.2135948056088939| -22.25|   0.0|   960.09|\n",
      "|     total_amount| 14.790096586143193|  69.02724740874783|-1430.0|  11.0| 685908.1|\n",
      "|trip_time_in_secs|  811.9999416964196| 15815.405665025506|-6480.0| 600.0|4294966.0|\n",
      "|    trip_distance|  8.305137242741548| 6639.9030678122035|    0.0|   1.8|1.53318E7|\n",
      "|  passenger_count| 1.7094193669596225| 1.3767439366809278|    0.0|   1.0|    255.0|\n",
      "+-----------------+-------------------+-------------------+-------+------+---------+\n",
      "\n"
     ]
    },
    {
     "name": "stderr",
     "output_type": "stream",
     "text": [
      "                                                                                \r"
     ]
    }
   ],
   "source": [
    "columns = [\"trip_time_in_secs\", \"trip_distance\", \"passenger_count\"]\n",
    "\n",
    "df_stats_list = [get_stats(df_trip, col) for col in columns]\n",
    "for df in df_stats_list[0:]:\n",
    "    df_stats = df_stats.unionByName(df)\n",
    "\n",
    "df_stats.show()\n"
   ]
  },
  {
   "cell_type": "markdown",
   "metadata": {},
   "source": [
    "### Passenger Count\n",
    "Taking a look at the count of trips with different passenger counts."
   ]
  },
  {
   "cell_type": "code",
   "execution_count": 95,
   "metadata": {},
   "outputs": [
    {
     "name": "stderr",
     "output_type": "stream",
     "text": [
      "                                                                                \r"
     ]
    }
   ],
   "source": [
    "df_passenger_count = df_trip.select(\"passenger_count\").groupBy(\"passenger_count\").count().toPandas()\n",
    "df_passenger_count.sort_values('passenger_count', inplace=True)\n",
    "df_passenger_count['passenger_count'] = df_passenger_count['passenger_count'].astype(str)"
   ]
  },
  {
   "cell_type": "code",
   "execution_count": 96,
   "metadata": {},
   "outputs": [
    {
     "name": "stderr",
     "output_type": "stream",
     "text": [
      "/var/folders/vz/rgbmjfqn0nq0nvl3m3c5by_00000gn/T/ipykernel_38608/331447125.py:2: FutureWarning: \n",
      "\n",
      "Passing `palette` without assigning `hue` is deprecated and will be removed in v0.14.0. Assign the `x` variable to `hue` and set `legend=False` for the same effect.\n",
      "\n",
      "  sns.barplot(x='passenger_count', y='count', data=df_passenger_count, palette=\"Blues_d\")\n"
     ]
    },
    {
     "data": {
      "image/png": "[encoded data removed]",
      "text/plain": [
       "<Figure size 1500x600 with 1 Axes>"
      ]
     },
     "metadata": {},
     "output_type": "display_data"
    }
   ],
   "source": [
    "plt.figure(figsize=(15, 6))\n",
    "sns.barplot(x='passenger_count', y='count', data=df_passenger_count, palette=\"Blues_d\")\n",
    "plt.title(\"Distribution of Passenger Count\")\n",
    "plt.xlabel(\"Passenger Count\")\n",
    "plt.ylabel(\"Frequency\")\n",
    "plt.tight_layout()\n",
    "plt.show()\n"
   ]
  },
  {
   "cell_type": "markdown",
   "metadata": {},
   "source": [
    "### Total Amount\n",
    "Finding how many negative and positive values are out there."
   ]
  },
  {
   "cell_type": "code",
   "execution_count": 97,
   "metadata": {},
   "outputs": [
    {
     "name": "stderr",
     "output_type": "stream",
     "text": [
      "                                                                                \r"
     ]
    },
    {
     "data": {
      "text/plain": [
       "(173173119, 6640)"
      ]
     },
     "execution_count": 97,
     "metadata": {},
     "output_type": "execute_result"
    }
   ],
   "source": [
    "df_fare.where(df_fare['total_amount'] > 0).count(), df_fare.where(df_fare['total_amount'] <= 0).count()"
   ]
  },
  {
   "cell_type": "markdown",
   "metadata": {},
   "source": [
    "### Rate Code\n",
    "Calculating how many rate codes does the dataset contain. Observing how the data of this attribute looks like."
   ]
  },
  {
   "cell_type": "code",
   "execution_count": 98,
   "metadata": {},
   "outputs": [
    {
     "data": {
      "text/plain": [
       "26"
      ]
     },
     "execution_count": 98,
     "metadata": {},
     "output_type": "execute_result"
    }
   ],
   "source": [
    "df_trip[['rate_code']].distinct().count()"
   ]
  },
  {
   "cell_type": "code",
   "execution_count": 99,
   "metadata": {},
   "outputs": [
    {
     "name": "stdout",
     "output_type": "stream",
     "text": [
      "+---------+\n",
      "|rate_code|\n",
      "+---------+\n",
      "|      210|\n",
      "|        1|\n",
      "|        6|\n",
      "|        3|\n",
      "|        5|\n",
      "|        4|\n",
      "|        7|\n",
      "|        2|\n",
      "|        0|\n",
      "|        9|\n",
      "|       28|\n",
      "|        8|\n",
      "|       77|\n",
      "|       65|\n",
      "|       15|\n",
      "|      206|\n",
      "|      221|\n",
      "|      239|\n",
      "|      200|\n",
      "|       79|\n",
      "|       17|\n",
      "|       13|\n",
      "|       16|\n",
      "|      208|\n",
      "|      128|\n",
      "|       10|\n",
      "+---------+\n",
      "\n"
     ]
    }
   ],
   "source": [
    "df_trip[['rate_code']].distinct().show(26)"
   ]
  },
  {
   "cell_type": "markdown",
   "metadata": {},
   "source": [
    "### Payment Types\n",
    "Find what payment types exist in the dataset. Find the frequency of payment types. "
   ]
  },
  {
   "cell_type": "code",
   "execution_count": 100,
   "metadata": {},
   "outputs": [
    {
     "name": "stderr",
     "output_type": "stream",
     "text": [
      "[Stage 356:=========================================>             (18 + 6) / 24]\r"
     ]
    },
    {
     "name": "stdout",
     "output_type": "stream",
     "text": [
      "+------------+\n",
      "|payment_type|\n",
      "+------------+\n",
      "|         CSH|\n",
      "|         DIS|\n",
      "|         CRD|\n",
      "|         UNK|\n",
      "|         NOC|\n",
      "+------------+\n",
      "\n"
     ]
    },
    {
     "name": "stderr",
     "output_type": "stream",
     "text": [
      "                                                                                \r"
     ]
    }
   ],
   "source": [
    "df_fare.select(\"payment_type\").distinct().show()"
   ]
  },
  {
   "cell_type": "code",
   "execution_count": 101,
   "metadata": {},
   "outputs": [
    {
     "name": "stderr",
     "output_type": "stream",
     "text": [
      "                                                                                \r"
     ]
    }
   ],
   "source": [
    "df_payment_type_count = df_fare.select(\"payment_type\").repartition(100).groupBy(\"payment_type\").count().toPandas()"
   ]
  },
  {
   "cell_type": "code",
   "execution_count": 102,
   "metadata": {},
   "outputs": [],
   "source": [
    "df_payment_type_count.sort_values(\"count\", inplace=True, ascending=False)"
   ]
  },
  {
   "cell_type": "code",
   "execution_count": 103,
   "metadata": {},
   "outputs": [
    {
     "name": "stderr",
     "output_type": "stream",
     "text": [
      "/var/folders/vz/rgbmjfqn0nq0nvl3m3c5by_00000gn/T/ipykernel_38608/919329884.py:2: FutureWarning: \n",
      "\n",
      "Passing `palette` without assigning `hue` is deprecated and will be removed in v0.14.0. Assign the `x` variable to `hue` and set `legend=False` for the same effect.\n",
      "\n",
      "  sns.barplot(x='payment_type', y='count', data=df_payment_type_count, palette=\"Blues_d\")\n"
     ]
    },
    {
     "data": {
      "image/png": "[encoded data removed]",
      "text/plain": [
       "<Figure size 1500x600 with 1 Axes>"
      ]
     },
     "metadata": {},
     "output_type": "display_data"
    }
   ],
   "source": [
    "plt.figure(figsize=(15, 6))\n",
    "sns.barplot(x='payment_type', y='count', data=df_payment_type_count, palette=\"Blues_d\")\n",
    "plt.title(\"Distribution of Passenger Count\")\n",
    "plt.xlabel(\"Passenger Count\")\n",
    "plt.ylabel(\"Frequency\")\n",
    "plt.tight_layout()\n",
    "plt.show()"
   ]
  },
  {
   "cell_type": "code",
   "execution_count": 104,
   "metadata": {},
   "outputs": [
    {
     "data": {
      "text/html": [
       "<div>\n",
       "<style scoped>\n",
       "    .dataframe tbody tr th:only-of-type {\n",
       "        vertical-align: middle;\n",
       "    }\n",
       "\n",
       "    .dataframe tbody tr th {\n",
       "        vertical-align: top;\n",
       "    }\n",
       "\n",
       "    .dataframe thead th {\n",
       "        text-align: right;\n",
       "    }\n",
       "</style>\n",
       "<table border=\"1\" class=\"dataframe\">\n",
       "  <thead>\n",
       "    <tr style=\"text-align: right;\">\n",
       "      <th></th>\n",
       "      <th>payment_type</th>\n",
       "      <th>count</th>\n",
       "    </tr>\n",
       "  </thead>\n",
       "  <tbody>\n",
       "    <tr>\n",
       "      <th>2</th>\n",
       "      <td>CRD</td>\n",
       "      <td>93334004</td>\n",
       "    </tr>\n",
       "    <tr>\n",
       "      <th>0</th>\n",
       "      <td>CSH</td>\n",
       "      <td>79110096</td>\n",
       "    </tr>\n",
       "    <tr>\n",
       "      <th>4</th>\n",
       "      <td>NOC</td>\n",
       "      <td>401483</td>\n",
       "    </tr>\n",
       "    <tr>\n",
       "      <th>3</th>\n",
       "      <td>UNK</td>\n",
       "      <td>206867</td>\n",
       "    </tr>\n",
       "    <tr>\n",
       "      <th>1</th>\n",
       "      <td>DIS</td>\n",
       "      <td>127309</td>\n",
       "    </tr>\n",
       "  </tbody>\n",
       "</table>\n",
       "</div>"
      ],
      "text/plain": [
       "  payment_type     count\n",
       "2          CRD  93334004\n",
       "0          CSH  79110096\n",
       "4          NOC    401483\n",
       "3          UNK    206867\n",
       "1          DIS    127309"
      ]
     },
     "execution_count": 104,
     "metadata": {},
     "output_type": "execute_result"
    }
   ],
   "source": [
    "df_payment_type_count"
   ]
  },
  {
   "cell_type": "code",
   "execution_count": 105,
   "metadata": {},
   "outputs": [
    {
     "name": "stdout",
     "output_type": "stream",
     "text": [
      "Card: 0.54%\n",
      "Cash: 0.46%\n"
     ]
    }
   ],
   "source": [
    "card_count = df_payment_type_count[df_payment_type_count['payment_type'] == 'CRD']['count'].iloc[0]\n",
    "cash_count = df_payment_type_count[df_payment_type_count['payment_type'] == 'CSH']['count'].iloc[0]\n",
    "total = card_count + cash_count\n",
    "card_percent = card_count / total\n",
    "cash_percent = cash_count / total\n",
    "\n",
    "print(f\"Card: {round(card_percent, 2)}%\")\n",
    "print(f\"Cash: {round(cash_percent, 2)}%\")"
   ]
  }
 ],
 "metadata": {
  "kernelspec": {
   "display_name": ".venv",
   "language": "python",
   "name": "python3"
  },
  "language_info": {
   "codemirror_mode": {
    "name": "ipython",
    "version": 3
   },
   "file_extension": ".py",
   "mimetype": "text/x-python",
   "name": "python",
   "nbconvert_exporter": "python",
   "pygments_lexer": "ipython3",
   "version": "3.10.16"
  }
 },
 "nbformat": 4,
 "nbformat_minor": 2
}
