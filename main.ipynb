{
 "cells": [
  {
   "cell_type": "code",
   "execution_count": 112,
   "metadata": {},
   "outputs": [],
   "source": [
    "from pyspark.sql import SparkSession\n",
    "from pyspark.sql import functions as F\n",
    "import seaborn as sns\n",
    "import matplotlib.pyplot as plt\n",
    "from datetime import date\n",
    "\n",
    "spark = SparkSession.builder \\\n",
    "    .config(\"spark.driver.memory\", \"10g\") \\\n",
    "    .config(\"spark.executor.memory\", \"10g\") \\\n",
    "    .appName(\"SimpleApp\") \\\n",
    "    .getOrCreate()\n",
    "\n"
   ]
  },
  {
   "cell_type": "markdown",
   "metadata": {},
   "source": [
    "### Reading data"
   ]
  },
  {
   "cell_type": "code",
   "execution_count": 113,
   "metadata": {},
   "outputs": [],
   "source": [
    "df_fare = spark.read.option(\"inferSchema\", True).option(\"header\", True).parquet(\"trip_fare.parquet\")\n",
    "df_trip = spark.read.option(\"inferSchema\", True).option(\"header\", True).parquet(\"trip_data.parquet\")"
   ]
  },
  {
   "cell_type": "code",
   "execution_count": 114,
   "metadata": {},
   "outputs": [],
   "source": [
    "df_fare = df_fare.where(F.col(\"pickup_datetime\") <= F.lit(\"2013-01-27\"))\n",
    "df_trip = df_trip.where(F.col(\"pickup_datetime\") <= F.lit(\"2013-01-27\"))"
   ]
  },
  {
   "cell_type": "code",
   "execution_count": 115,
   "metadata": {},
   "outputs": [
    {
     "name": "stderr",
     "output_type": "stream",
     "text": [
      "[Stage 355:========================================>              (14 + 5) / 19]\r"
     ]
    },
    {
     "name": "stdout",
     "output_type": "stream",
     "text": [
      "+--------------------+--------------------+---------+-------------------+------------+-----------+---------+-------+----------+------------+------------+\n",
      "|           medallion|        hack_license|vendor_id|    pickup_datetime|payment_type|fare_amount|surcharge|mta_tax|tip_amount|tolls_amount|total_amount|\n",
      "+--------------------+--------------------+---------+-------------------+------------+-----------+---------+-------+----------+------------+------------+\n",
      "|6C1903A982854FE75...|7A8D37CC21273D13E...|      CMT|2013-01-18 21:23:18|         CRD|       19.0|      0.5|    0.5|       2.5|         0.0|        22.5|\n",
      "|E245A2E55C81F0BEB...|9D1776576BCA0953B...|      CMT|2013-01-18 20:59:53|         CRD|       13.5|      0.5|    0.5|       1.5|         0.0|        16.0|\n",
      "|5E7022BA90EE0AFE3...|108CE84A25C9E3CFF...|      CMT|2013-01-18 21:14:34|         CRD|       31.0|      0.5|    0.5|      7.36|         4.8|       44.16|\n",
      "+--------------------+--------------------+---------+-------------------+------------+-----------+---------+-------+----------+------------+------------+\n",
      "only showing top 3 rows\n",
      "\n"
     ]
    },
    {
     "name": "stderr",
     "output_type": "stream",
     "text": [
      "                                                                                \r"
     ]
    }
   ],
   "source": [
    "df_fare.show(3)"
   ]
  },
  {
   "cell_type": "code",
   "execution_count": 116,
   "metadata": {},
   "outputs": [
    {
     "name": "stderr",
     "output_type": "stream",
     "text": [
      "[Stage 358:======================================>                (14 + 6) / 20]\r"
     ]
    },
    {
     "name": "stdout",
     "output_type": "stream",
     "text": [
      "+--------------------+--------------------+---------+---------+------------------+-------------------+-------------------+---------------+-----------------+-------------+----------------+---------------+-----------------+----------------+\n",
      "|           medallion|        hack_license|vendor_id|rate_code|store_and_fwd_flag|    pickup_datetime|   dropoff_datetime|passenger_count|trip_time_in_secs|trip_distance|pickup_longitude|pickup_latitude|dropoff_longitude|dropoff_latitude|\n",
      "+--------------------+--------------------+---------+---------+------------------+-------------------+-------------------+---------------+-----------------+-------------+----------------+---------------+-----------------+----------------+\n",
      "|8B650C19E9FAEBD67...|FD9AB389D3ECC80D3...|      CMT|        1|                 N|2013-01-06 00:50:21|2013-01-06 00:54:32|              1|              251|          0.6|      -73.989563|      40.719044|       -73.991646|       40.726589|\n",
      "|8B650C19E9FAEBD67...|FD9AB389D3ECC80D3...|      CMT|        1|                 N|2013-01-06 01:08:48|2013-01-06 01:13:12|              1|              264|          1.0|      -73.977867|      40.763378|       -73.988106|       40.756493|\n",
      "|C3E7F827F0CF5A5B9...|CE625FD96D0FAFC81...|      CMT|        1|                 N|2013-01-08 19:55:42|2013-01-08 20:02:44|              1|              422|          1.1|      -73.985275|      40.754929|       -73.979263|       40.752621|\n",
      "+--------------------+--------------------+---------+---------+------------------+-------------------+-------------------+---------------+-----------------+-------------+----------------+---------------+-----------------+----------------+\n",
      "only showing top 3 rows\n",
      "\n"
     ]
    },
    {
     "name": "stderr",
     "output_type": "stream",
     "text": [
      "                                                                                \r"
     ]
    }
   ],
   "source": [
    "df_trip.show(3)"
   ]
  },
  {
   "cell_type": "markdown",
   "metadata": {},
   "source": [
    "### General Statistical Analysis\n",
    "Finding <i>mean, standard deviation, median, min and max</i> for each of the numeric attributes in both fare and trip datasets."
   ]
  },
  {
   "cell_type": "code",
   "execution_count": 117,
   "metadata": {},
   "outputs": [
    {
     "name": "stderr",
     "output_type": "stream",
     "text": [
      "[Stage 364:====================================================>  (23 + 1) / 24]\r"
     ]
    },
    {
     "name": "stdout",
     "output_type": "stream",
     "text": [
      "+------------+-------------------+-------------------+---+------+-----+\n",
      "|     feature|               mean|             stddev|min|median|  max|\n",
      "+------------+-------------------+-------------------+---+------+-----+\n",
      "| fare_amount|  11.64940979357973|  9.641581783018069|2.5|   9.0|500.0|\n",
      "|   surcharge| 0.3172875587999275| 0.3645750108531388|0.0|   0.0| 12.5|\n",
      "|     mta_tax|0.49838722278647724|0.02835114850282505|0.0|   0.5|  0.5|\n",
      "|  tip_amount| 1.2510306253790024| 2.0368872562025806|0.0|   0.5|200.0|\n",
      "|tolls_amount| 0.2012416766994943|  1.033849434797973|0.0|   0.0| 20.0|\n",
      "|total_amount| 13.917356877242494| 11.448364426974457|2.5|  10.5|650.0|\n",
      "+------------+-------------------+-------------------+---+------+-----+\n",
      "\n"
     ]
    },
    {
     "name": "stderr",
     "output_type": "stream",
     "text": [
      "                                                                                \r"
     ]
    }
   ],
   "source": [
    "def get_stats(df, col_name):\n",
    "    return df.select(\n",
    "        F.lit(col_name).alias(\"feature\"),\n",
    "        F.mean(col_name).alias(\"mean\"),\n",
    "        F.stddev(col_name).alias(\"stddev\"),\n",
    "        F.min(col_name).alias(\"min\"),\n",
    "        F.expr(f'percentile_approx({col_name}, 0.5)').alias(\"median\"),\n",
    "        F.max(col_name).alias(\"max\")\n",
    "    )\n",
    "\n",
    "columns = [\"fare_amount\", \"surcharge\", \"mta_tax\", \"tip_amount\", \"tolls_amount\", \"total_amount\"]\n",
    "\n",
    "df_stats_list = [get_stats(df_fare, col) for col in columns]\n",
    "\n",
    "df_stats = df_stats_list[0]\n",
    "for df in df_stats_list[1:]:\n",
    "    df_stats = df_stats.unionByName(df)\n",
    "\n",
    "df_stats.show()"
   ]
  },
  {
   "cell_type": "code",
   "execution_count": 118,
   "metadata": {},
   "outputs": [
    {
     "name": "stderr",
     "output_type": "stream",
     "text": [
      "[Stage 380:=====================================================> (44 + 1) / 45]\r"
     ]
    },
    {
     "name": "stdout",
     "output_type": "stream",
     "text": [
      "+-----------------+-------------------+-------------------+---+------+-------+\n",
      "|          feature|               mean|             stddev|min|median|    max|\n",
      "+-----------------+-------------------+-------------------+---+------+-------+\n",
      "|      fare_amount|  11.64940979357973|  9.641581783018069|2.5|   9.0|  500.0|\n",
      "|        surcharge| 0.3172875587999275| 0.3645750108531388|0.0|   0.0|   12.5|\n",
      "|          mta_tax|0.49838722278647724|0.02835114850282505|0.0|   0.5|    0.5|\n",
      "|       tip_amount| 1.2510306253790024| 2.0368872562025806|0.0|   0.5|  200.0|\n",
      "|     tolls_amount| 0.2012416766994943|  1.033849434797973|0.0|   0.0|   20.0|\n",
      "|     total_amount| 13.917356877242494| 11.448364426974457|2.5|  10.5|  650.0|\n",
      "|trip_time_in_secs|  679.5346706257795|  490.6151931029789|0.0| 549.0|10800.0|\n",
      "|    trip_distance| 2.7736331848585616|  3.314625055934318|0.0|   1.7|  100.0|\n",
      "|  passenger_count| 1.7026158840398544| 1.3668410370075714|0.0|   1.0|  255.0|\n",
      "+-----------------+-------------------+-------------------+---+------+-------+\n",
      "\n"
     ]
    },
    {
     "name": "stderr",
     "output_type": "stream",
     "text": [
      "                                                                                \r"
     ]
    }
   ],
   "source": [
    "columns = [\"trip_time_in_secs\", \"trip_distance\", \"passenger_count\"]\n",
    "\n",
    "df_stats_list = [get_stats(df_trip, col) for col in columns]\n",
    "for df in df_stats_list[0:]:\n",
    "    df_stats = df_stats.unionByName(df)\n",
    "\n",
    "df_stats.show()"
   ]
  },
  {
   "cell_type": "code",
   "execution_count": 119,
   "metadata": {},
   "outputs": [
    {
     "name": "stderr",
     "output_type": "stream",
     "text": [
      "                                                                                \r"
     ]
    }
   ],
   "source": [
    "df_stats.coalesce(1).write.csv(\"df_stats.csv\")"
   ]
  },
  {
   "cell_type": "markdown",
   "metadata": {},
   "source": [
    "### Passenger Count\n",
    "Taking a look at the count of trips with different passenger counts."
   ]
  },
  {
   "cell_type": "code",
   "execution_count": 120,
   "metadata": {},
   "outputs": [
    {
     "name": "stderr",
     "output_type": "stream",
     "text": [
      "                                                                                \r"
     ]
    }
   ],
   "source": [
    "df_passenger_count = df_trip.select(\"passenger_count\").groupBy(\"passenger_count\").count().toPandas()\n",
    "df_passenger_count.sort_values('passenger_count', inplace=True)\n",
    "df_passenger_count['passenger_count'] = df_passenger_count['passenger_count'].astype(str)"
   ]
  },
  {
   "cell_type": "code",
   "execution_count": 121,
   "metadata": {},
   "outputs": [
    {
     "name": "stderr",
     "output_type": "stream",
     "text": [
      "/var/folders/vz/rgbmjfqn0nq0nvl3m3c5by_00000gn/T/ipykernel_7851/331447125.py:2: FutureWarning: \n",
      "\n",
      "Passing `palette` without assigning `hue` is deprecated and will be removed in v0.14.0. Assign the `x` variable to `hue` and set `legend=False` for the same effect.\n",
      "\n",
      "  sns.barplot(x='passenger_count', y='count', data=df_passenger_count, palette=\"Blues_d\")\n"
     ]
    },
    {
     "data": {
      "image/png": "[encoded data removed]",
      "text/plain": [
       "<Figure size 1500x600 with 1 Axes>"
      ]
     },
     "metadata": {},
     "output_type": "display_data"
    }
   ],
   "source": [
    "plt.figure(figsize=(15, 6))\n",
    "sns.barplot(x='passenger_count', y='count', data=df_passenger_count, palette=\"Blues_d\")\n",
    "plt.title(\"Distribution of Passenger Count\")\n",
    "plt.xlabel(\"Passenger Count\")\n",
    "plt.ylabel(\"Frequency\")\n",
    "plt.tight_layout()\n",
    "plt.show()\n"
   ]
  },
  {
   "cell_type": "markdown",
   "metadata": {},
   "source": [
    "### Total Amount\n",
    "Finding how many negative and positive values are out there."
   ]
  },
  {
   "cell_type": "code",
   "execution_count": 122,
   "metadata": {},
   "outputs": [
    {
     "name": "stderr",
     "output_type": "stream",
     "text": [
      "                                                                                \r"
     ]
    },
    {
     "data": {
      "text/plain": [
       "(12364386, 0)"
      ]
     },
     "execution_count": 122,
     "metadata": {},
     "output_type": "execute_result"
    }
   ],
   "source": [
    "df_fare.where(df_fare['total_amount'] > 0).count(), df_fare.where(df_fare['total_amount'] <= 0).count()"
   ]
  },
  {
   "cell_type": "markdown",
   "metadata": {},
   "source": [
    "### Rate Code\n",
    "Calculating how many rate codes does the dataset contain. Observing how the data of this attribute looks like."
   ]
  },
  {
   "cell_type": "code",
   "execution_count": 123,
   "metadata": {},
   "outputs": [
    {
     "name": "stderr",
     "output_type": "stream",
     "text": [
      "                                                                                \r"
     ]
    },
    {
     "data": {
      "text/plain": [
       "13"
      ]
     },
     "execution_count": 123,
     "metadata": {},
     "output_type": "execute_result"
    }
   ],
   "source": [
    "df_trip[['rate_code']].distinct().count()"
   ]
  },
  {
   "cell_type": "code",
   "execution_count": 124,
   "metadata": {},
   "outputs": [
    {
     "name": "stdout",
     "output_type": "stream",
     "text": [
      "+---------+\n",
      "|rate_code|\n",
      "+---------+\n",
      "|      210|\n",
      "|       28|\n",
      "|        1|\n",
      "|        6|\n",
      "|        3|\n",
      "|        5|\n",
      "|        9|\n",
      "|        4|\n",
      "|        2|\n",
      "|        0|\n",
      "|        7|\n",
      "|        8|\n",
      "|      128|\n",
      "+---------+\n",
      "\n"
     ]
    },
    {
     "name": "stderr",
     "output_type": "stream",
     "text": [
      "                                                                                \r"
     ]
    }
   ],
   "source": [
    "df_trip[['rate_code']].distinct().show(26)"
   ]
  },
  {
   "cell_type": "markdown",
   "metadata": {},
   "source": [
    "### Payment Types\n",
    "Find what payment types exist in the dataset. Find the frequency of payment types. "
   ]
  },
  {
   "cell_type": "code",
   "execution_count": 125,
   "metadata": {},
   "outputs": [
    {
     "name": "stderr",
     "output_type": "stream",
     "text": [
      "[Stage 428:=========================================>             (18 + 6) / 24]\r"
     ]
    },
    {
     "name": "stdout",
     "output_type": "stream",
     "text": [
      "+------------+\n",
      "|payment_type|\n",
      "+------------+\n",
      "|         CSH|\n",
      "|         DIS|\n",
      "|         CRD|\n",
      "|         UNK|\n",
      "|         NOC|\n",
      "+------------+\n",
      "\n"
     ]
    },
    {
     "name": "stderr",
     "output_type": "stream",
     "text": [
      "                                                                                \r"
     ]
    }
   ],
   "source": [
    "df_fare.select(\"payment_type\").distinct().show()"
   ]
  },
  {
   "cell_type": "code",
   "execution_count": 126,
   "metadata": {},
   "outputs": [
    {
     "name": "stderr",
     "output_type": "stream",
     "text": [
      "                                                                                \r"
     ]
    }
   ],
   "source": [
    "df_payment_type_count = df_fare.select(\"payment_type\").repartition(100).groupBy(\"payment_type\").count().toPandas()"
   ]
  },
  {
   "cell_type": "code",
   "execution_count": 127,
   "metadata": {},
   "outputs": [],
   "source": [
    "df_payment_type_count.sort_values(\"count\", inplace=True, ascending=False)"
   ]
  },
  {
   "cell_type": "code",
   "execution_count": 128,
   "metadata": {},
   "outputs": [
    {
     "name": "stderr",
     "output_type": "stream",
     "text": [
      "/var/folders/vz/rgbmjfqn0nq0nvl3m3c5by_00000gn/T/ipykernel_7851/919329884.py:2: FutureWarning: \n",
      "\n",
      "Passing `palette` without assigning `hue` is deprecated and will be removed in v0.14.0. Assign the `x` variable to `hue` and set `legend=False` for the same effect.\n",
      "\n",
      "  sns.barplot(x='payment_type', y='count', data=df_payment_type_count, palette=\"Blues_d\")\n"
     ]
    },
    {
     "data": {
      "image/png": "[encoded data removed]",
      "text/plain": [
       "<Figure size 1500x600 with 1 Axes>"
      ]
     },
     "metadata": {},
     "output_type": "display_data"
    }
   ],
   "source": [
    "plt.figure(figsize=(15, 6))\n",
    "sns.barplot(x='payment_type', y='count', data=df_payment_type_count, palette=\"Blues_d\")\n",
    "plt.title(\"Distribution of Passenger Count\")\n",
    "plt.xlabel(\"Passenger Count\")\n",
    "plt.ylabel(\"Frequency\")\n",
    "plt.tight_layout()\n",
    "plt.show()"
   ]
  },
  {
   "cell_type": "code",
   "execution_count": 129,
   "metadata": {},
   "outputs": [
    {
     "data": {
      "text/html": [
       "<div>\n",
       "<style scoped>\n",
       "    .dataframe tbody tr th:only-of-type {\n",
       "        vertical-align: middle;\n",
       "    }\n",
       "\n",
       "    .dataframe tbody tr th {\n",
       "        vertical-align: top;\n",
       "    }\n",
       "\n",
       "    .dataframe thead th {\n",
       "        text-align: right;\n",
       "    }\n",
       "</style>\n",
       "<table border=\"1\" class=\"dataframe\">\n",
       "  <thead>\n",
       "    <tr style=\"text-align: right;\">\n",
       "      <th></th>\n",
       "      <th>payment_type</th>\n",
       "      <th>count</th>\n",
       "    </tr>\n",
       "  </thead>\n",
       "  <tbody>\n",
       "    <tr>\n",
       "      <th>2</th>\n",
       "      <td>CRD</td>\n",
       "      <td>6410836</td>\n",
       "    </tr>\n",
       "    <tr>\n",
       "      <th>0</th>\n",
       "      <td>CSH</td>\n",
       "      <td>5910912</td>\n",
       "    </tr>\n",
       "    <tr>\n",
       "      <th>4</th>\n",
       "      <td>NOC</td>\n",
       "      <td>27728</td>\n",
       "    </tr>\n",
       "    <tr>\n",
       "      <th>1</th>\n",
       "      <td>DIS</td>\n",
       "      <td>9619</td>\n",
       "    </tr>\n",
       "    <tr>\n",
       "      <th>3</th>\n",
       "      <td>UNK</td>\n",
       "      <td>5291</td>\n",
       "    </tr>\n",
       "  </tbody>\n",
       "</table>\n",
       "</div>"
      ],
      "text/plain": [
       "  payment_type    count\n",
       "2          CRD  6410836\n",
       "0          CSH  5910912\n",
       "4          NOC    27728\n",
       "1          DIS     9619\n",
       "3          UNK     5291"
      ]
     },
     "execution_count": 129,
     "metadata": {},
     "output_type": "execute_result"
    }
   ],
   "source": [
    "df_payment_type_count"
   ]
  },
  {
   "cell_type": "code",
   "execution_count": 130,
   "metadata": {},
   "outputs": [
    {
     "name": "stdout",
     "output_type": "stream",
     "text": [
      "Card: 52.03%\n",
      "Cash: 47.97%\n"
     ]
    }
   ],
   "source": [
    "card_count = df_payment_type_count[df_payment_type_count['payment_type'] == 'CRD']['count'].iloc[0]\n",
    "cash_count = df_payment_type_count[df_payment_type_count['payment_type'] == 'CSH']['count'].iloc[0]\n",
    "total = card_count + cash_count\n",
    "card_percent = card_count / total * 100\n",
    "cash_percent = cash_count / total * 100\n",
    "\n",
    "print(f\"Card: {round(card_percent, 2)}%\")\n",
    "print(f\"Cash: {round(cash_percent, 2)}%\")"
   ]
  },
  {
   "cell_type": "markdown",
   "metadata": {},
   "source": [
    "### MTA TAX"
   ]
  },
  {
   "cell_type": "code",
   "execution_count": 131,
   "metadata": {},
   "outputs": [
    {
     "name": "stderr",
     "output_type": "stream",
     "text": [
      "[Stage 437:===========================>                          (12 + 10) / 24]\r"
     ]
    },
    {
     "name": "stdout",
     "output_type": "stream",
     "text": [
      "+-------+--------+\n",
      "|mta_tax|   count|\n",
      "+-------+--------+\n",
      "|    0.0|   39882|\n",
      "|    0.5|12324504|\n",
      "+-------+--------+\n",
      "\n"
     ]
    },
    {
     "name": "stderr",
     "output_type": "stream",
     "text": [
      "                                                                                \r"
     ]
    }
   ],
   "source": [
    "df_mta_tax = df_fare.select(\"mta_tax\").groupby(\"mta_tax\").count().sort(\"mta_tax\")\n",
    "df_mta_tax.show()"
   ]
  },
  {
   "cell_type": "code",
   "execution_count": 132,
   "metadata": {},
   "outputs": [
    {
     "name": "stderr",
     "output_type": "stream",
     "text": [
      "                                                                                \r"
     ]
    },
    {
     "data": {
      "image/png": "[encoded data removed]",
      "text/plain": [
       "<Figure size 800x500 with 1 Axes>"
      ]
     },
     "metadata": {},
     "output_type": "display_data"
    }
   ],
   "source": [
    "pdf = df_mta_tax.toPandas()\n",
    "\n",
    "plt.figure(figsize=(8, 5))\n",
    "plt.bar(pdf['mta_tax'], pdf['count'], color='skyblue')\n",
    "plt.xlabel('MTA Tax')\n",
    "plt.ylabel('Count')\n",
    "plt.title('Distribution of MTA Tax')\n",
    "plt.xticks(rotation=45)\n",
    "plt.tight_layout()\n",
    "plt.show()"
   ]
  }
 ],
 "metadata": {
  "kernelspec": {
   "display_name": ".venv",
   "language": "python",
   "name": "python3"
  },
  "language_info": {
   "codemirror_mode": {
    "name": "ipython",
    "version": 3
   },
   "file_extension": ".py",
   "mimetype": "text/x-python",
   "name": "python",
   "nbconvert_exporter": "python",
   "pygments_lexer": "ipython3",
   "version": "3.10.16"
  }
 },
 "nbformat": 4,
 "nbformat_minor": 2
}
