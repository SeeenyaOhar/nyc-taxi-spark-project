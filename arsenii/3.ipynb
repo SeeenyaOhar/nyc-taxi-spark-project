{
 "cells": [
  {
   "cell_type": "code",
   "execution_count": 18,
   "id": "a2e68606",
   "metadata": {},
   "outputs": [],
   "source": [
    "# Різниця між середнім значенням націнки (surcharge) у новорічну ніч та середнім значенням націнки в неділю (groupby, filter).\n",
    "from pyspark.sql import SparkSession\n",
    "from pyspark.sql.functions import col, avg, to_date, hour, dayofmonth, month, year, weekday\n",
    "import pandas as pd\n",
    "import matplotlib.pyplot as plt\n",
    "import seaborn as sns\n"
   ]
  },
  {
   "cell_type": "code",
   "execution_count": 12,
   "id": "3c960c56",
   "metadata": {},
   "outputs": [],
   "source": [
    "\n",
    "spark = SparkSession.builder \\\n",
    "    .appName(\"SurchargeAnalysis\") \\\n",
    "    .getOrCreate()\n",
    "\n",
    "df_fare = spark.read.option(\"inferSchema\", True).option(\"header\", True).parquet(\"/Users/mac/Development/nyc-taxi-spark-project/trip_fare_cleaned.parquet\")\n",
    "df_trip = spark.read.option(\"inferSchema\", True).option(\"header\", True).parquet(\"/Users/mac/Development/nyc-taxi-spark-project/trip_data_cleaned.parquet\")\n"
   ]
  },
  {
   "cell_type": "code",
   "execution_count": 13,
   "id": "6f5c7457",
   "metadata": {},
   "outputs": [],
   "source": [
    "\n",
    "df_joined = df_trip.join(df_fare, on=[\"medallion\", \"pickup_datetime\"])\n",
    "\n",
    "df_with_time = df_joined \\\n",
    "    .withColumn(\"trip_date\", to_date(\"pickup_datetime\")) \\\n",
    "    .withColumn(\"pickup_hour\", hour(\"pickup_datetime\")) \\\n",
    "    .withColumn(\"pickup_weekday\", weekday(\"pickup_datetime\")) \\\n",
    "    .withColumn(\"pickup_day\", dayofmonth(\"pickup_datetime\")) \\\n",
    "    .withColumn(\"pickup_month\", month(\"pickup_datetime\")) \\\n",
    "    .withColumn(\"pickup_year\", year(\"pickup_datetime\"))\n"
   ]
  },
  {
   "cell_type": "code",
   "execution_count": 14,
   "id": "d871a7d0",
   "metadata": {},
   "outputs": [
    {
     "name": "stderr",
     "output_type": "stream",
     "text": [
      "                                                                                \r"
     ]
    }
   ],
   "source": [
    "\n",
    "sundays_df = df_with_time.filter(col(\"pickup_weekday\") == 6)\n",
    "\n",
    "nye_df = df_with_time.filter(\n",
    "    ((col(\"pickup_month\") == 12) & (col(\"pickup_day\") == 31) & (col(\"pickup_hour\") >= 18)) |\n",
    "    ((col(\"pickup_month\") == 1) & (col(\"pickup_day\") == 1) & (col(\"pickup_hour\") < 6))\n",
    ")\n",
    "\n",
    "avg_surcharge_sunday = sundays_df.agg(avg(\"surcharge\")).first()[0]\n",
    "avg_surcharge_nye = nye_df.agg(avg(\"surcharge\")).first()[0]\n",
    "difference = avg_surcharge_nye - avg_surcharge_sunday\n",
    "\n",
    "result_df = spark.createDataFrame([(\n",
    "    float(avg_surcharge_nye), \n",
    "    float(avg_surcharge_sunday), \n",
    "    float(difference)\n",
    ")], [\"avg_nye\", \"avg_sunday\", \"difference\"])"
   ]
  },
  {
   "cell_type": "code",
   "execution_count": 15,
   "id": "a3fd4bcb",
   "metadata": {},
   "outputs": [
    {
     "name": "stderr",
     "output_type": "stream",
     "text": [
      "                                                                                \r"
     ]
    }
   ],
   "source": [
    "result_df.coalesce(1).write.mode(\"overwrite\").option(\"header\", True).csv(\"/Users/mac/Development/nyc-taxi-spark-project/results/3.csv\")"
   ]
  },
  {
   "cell_type": "code",
   "execution_count": 19,
   "id": "99c10094",
   "metadata": {},
   "outputs": [
    {
     "name": "stderr",
     "output_type": "stream",
     "text": [
      "/var/folders/vz/rgbmjfqn0nq0nvl3m3c5by_00000gn/T/ipykernel_6251/3039486343.py:10: FutureWarning: \n",
      "\n",
      "Passing `palette` without assigning `hue` is deprecated and will be removed in v0.14.0. Assign the `y` variable to `hue` and set `legend=False` for the same effect.\n",
      "\n",
      "  sns.barplot(data=plot_data, x=\"Середня націнка\", y=\"Категорія\", palette=\"flare\")\n"
     ]
    },
    {
     "data": {
      "image/png": "[encoded data removed]",
      "text/plain": [
       "<Figure size 800x400 with 1 Axes>"
      ]
     },
     "metadata": {},
     "output_type": "display_data"
    }
   ],
   "source": [
    "pdf_result = result_df.toPandas()\n",
    "plot_data = pd.DataFrame({\n",
    "    \"Категорія\": [\"Новорічна ніч\", \"Звичайна неділя\"],\n",
    "    \"Середня націнка\": [pdf_result[\"avg_nye\"][0], pdf_result[\"avg_sunday\"][0]]\n",
    "})\n",
    "\n",
    "plt.figure(figsize=(8, 4))\n",
    "sns.barplot(data=plot_data, x=\"Середня націнка\", y=\"Категорія\", palette=\"flare\")\n",
    "\n",
    "diff = pdf_result[\"difference\"][0]\n",
    "plt.title(f\"Порівняння середньої націнки\\nРізниця: {diff:.2f} $\")\n",
    "plt.xlabel(\"Середня націнка ($)\")\n",
    "plt.ylabel(\"\")\n",
    "\n",
    "for index, value in enumerate(plot_data[\"Середня націнка\"]):\n",
    "    plt.text(value + 0.05, index, f\"{value:.2f} $\", va='center')\n",
    "\n",
    "plt.tight_layout()\n",
    "plt.show()"
   ]
  },
  {
   "cell_type": "code",
   "execution_count": null,
   "id": "35d1ef5c",
   "metadata": {},
   "outputs": [],
   "source": []
  }
 ],
 "metadata": {
  "kernelspec": {
   "display_name": ".venv",
   "language": "python",
   "name": "python3"
  },
  "language_info": {
   "codemirror_mode": {
    "name": "ipython",
    "version": 3
   },
   "file_extension": ".py",
   "mimetype": "text/x-python",
   "name": "python",
   "nbconvert_exporter": "python",
   "pygments_lexer": "ipython3",
   "version": "3.10.16"
  }
 },
 "nbformat": 4,
 "nbformat_minor": 5
}
