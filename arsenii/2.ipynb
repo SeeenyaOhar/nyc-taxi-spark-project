{
 "cells": [
  {
   "cell_type": "code",
   "execution_count": 51,
   "id": "b22db676",
   "metadata": {},
   "outputs": [],
   "source": [
    "# Знайти середню тривалість робочого дня для водія у суботу та неділю (window, groupby)\n",
    "\n",
    "from pyspark.sql import SparkSession\n",
    "from pyspark.sql.functions import col, unix_timestamp, min as min_, max as max_, to_date, expr, when, sum as sum_, avg, date_format, dayofweek, weekday\n",
    "from pyspark.sql.window import Window\n",
    "from pyspark.sql.functions import avg\n",
    "\n"
   ]
  },
  {
   "cell_type": "code",
   "execution_count": 52,
   "id": "efdaf309",
   "metadata": {},
   "outputs": [],
   "source": [
    "\n",
    "spark = SparkSession.builder \\\n",
    "    .appName(\"SimpleApp\") \\\n",
    "    .config(\"spark.driver.memory\", \"10g\") \\\n",
    "    .config(\"spark.executor.memory\", \"10g\") \\\n",
    "    .getOrCreate()\n",
    "\n",
    "df_fare = spark.read.option(\"inferSchema\", True).option(\"header\", True).parquet(\"/Users/mac/Development/nyc-taxi-spark-project/trip_fare_cleaned.parquet\")\n",
    "df_trip = spark.read.option(\"inferSchema\", True).option(\"header\", True).parquet(\"/Users/mac/Development/nyc-taxi-spark-project/trip_data_cleaned.parquet\")\n"
   ]
  },
  {
   "cell_type": "code",
   "execution_count": 53,
   "id": "bbd75403",
   "metadata": {},
   "outputs": [
    {
     "name": "stderr",
     "output_type": "stream",
     "text": [
      "[Stage 97:====>                                                   (1 + 10) / 12]\r"
     ]
    },
    {
     "name": "stdout",
     "output_type": "stream",
     "text": [
      "0002555BBE359440D6CEB34B699D3932\n"
     ]
    },
    {
     "name": "stderr",
     "output_type": "stream",
     "text": [
      "                                                                                \r"
     ]
    }
   ],
   "source": [
    "# pick a driver\n",
    "hack_license = df_trip.select(\"hack_license\").groupby(\"hack_license\").count().where(\"count > 10\").sort(\"hack_license\", acsending=False).first()['hack_license']\n",
    "\n",
    "print(hack_license)\n"
   ]
  },
  {
   "cell_type": "code",
   "execution_count": 54,
   "id": "a5bcb0e4",
   "metadata": {},
   "outputs": [],
   "source": [
    "\n",
    "weekend_df = df_trip \\\n",
    "    .filter(col(\"hack_license\") == hack_license) \\\n",
    "    .withColumn(\"pickup_day\", weekday(\"pickup_datetime\")) \\\n",
    "    .withColumn(\"dropoff_day\", weekday(\"dropoff_datetime\")) \\\n",
    "    .filter((col(\"pickup_day\").isin(5, 6)) & (col(\"dropoff_day\").isin(5, 6))) \\\n",
    "    .withColumn(\"trip_date\", to_date(\"pickup_datetime\")) \\\n",
    "    .withColumn(\"trip_duration_secs\", unix_timestamp(\"dropoff_datetime\") - unix_timestamp(\"pickup_datetime\"))\n",
    "\n",
    "\n",
    "day_window = Window.partitionBy(\"hack_license\", \"trip_date\")\n",
    "\n",
    "service_window_df = weekend_df \\\n",
    "    .withColumn(\"first_pickup\", min_(\"pickup_datetime\").over(day_window)) \\\n",
    "    .withColumn(\"last_dropoff\", max_(\"dropoff_datetime\").over(day_window)) \\\n",
    "    .withColumn(\"service_window_secs\", unix_timestamp(\"last_dropoff\") - unix_timestamp(\"first_pickup\")) \\\n",
    "    .groupBy(\"pickup_day\") \\\n",
    "    .agg(\n",
    "        avg(\"service_window_secs\").alias(\"avg_secs\"),\n",
    "        sum_(\"trip_duration_secs\").alias(\"total_driving_secs\")\n",
    "    ) \\\n",
    "    .withColumn(\"driving_hours\", expr(\"total_driving_secs / 3600\")) \\\n",
    "    .withColumn(\n",
    "        \"pickup_day\",\n",
    "        when(col(\"pickup_day\") == 5, \"Saturday\")\n",
    "        .when(col(\"pickup_day\") == 6, \"Sunday\")\n",
    "    )\n"
   ]
  },
  {
   "cell_type": "code",
   "execution_count": 55,
   "id": "d99cf917",
   "metadata": {},
   "outputs": [],
   "source": [
    "service_window_df.coalesce(1).write.mode(\"overwrite\").option(\"header\", True).csv(\"/Users/mac/Development/nyc-taxi-spark-project/results/2.csv\")"
   ]
  },
  {
   "cell_type": "code",
   "execution_count": 56,
   "id": "51533c25",
   "metadata": {},
   "outputs": [],
   "source": [
    "import pandas as pd\n",
    "import seaborn as sns\n",
    "import matplotlib.pyplot as plt\n",
    "df_plot = service_window_df.toPandas()"
   ]
  },
  {
   "cell_type": "code",
   "execution_count": null,
   "id": "68d7852f",
   "metadata": {},
   "outputs": [
    {
     "data": {
      "image/png": "[encoded data removed]",
      "text/plain": [
       "<Figure size 800x500 with 1 Axes>"
      ]
     },
     "metadata": {},
     "output_type": "display_data"
    }
   ],
   "source": [
    "\n",
    "df_melted = df_plot.melt(id_vars=\"pickup_day\", value_vars=[\"driving_hours\"],\n",
    "                         var_name=\"type\", value_name=\"hours\")\n",
    "\n",
    "day_map = {\n",
    "    \"Saturday\": \"Субота\",\n",
    "    \"Sunday\": \"Неділя\"\n",
    "}\n",
    "df_melted[\"pickup_day\"] = df_melted[\"pickup_day\"].map(day_map)\n",
    "df_melted = df_melted.sort_values(\"pickup_day\", ascending=False)\n",
    "\n",
    "plt.figure(figsize=(8, 5))\n",
    "sns.barplot(data=df_melted, x=\"pickup_day\", y=\"hours\", hue=\"type\")\n",
    "plt.title(\"Середня тривалість робочого вікна та поїздок для водія 0002555BBE359440D6CEB34B699D3932 (години)\")\n",
    "plt.xlabel(\"День тижня\")\n",
    "plt.ylabel(\"Години\")\n",
    "plt.legend(title=\"Тип\")\n",
    "plt.tight_layout()\n",
    "plt.show()"
   ]
  },
  {
   "cell_type": "code",
   "execution_count": null,
   "id": "01e24cd8",
   "metadata": {},
   "outputs": [],
   "source": []
  }
 ],
 "metadata": {
  "kernelspec": {
   "display_name": ".venv",
   "language": "python",
   "name": "python3"
  },
  "language_info": {
   "codemirror_mode": {
    "name": "ipython",
    "version": 3
   },
   "file_extension": ".py",
   "mimetype": "text/x-python",
   "name": "python",
   "nbconvert_exporter": "python",
   "pygments_lexer": "ipython3",
   "version": "3.10.16"
  }
 },
 "nbformat": 4,
 "nbformat_minor": 5
}
